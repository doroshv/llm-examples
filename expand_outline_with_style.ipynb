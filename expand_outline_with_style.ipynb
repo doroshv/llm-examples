{
 "cells": [
  {
   "cell_type": "markdown",
   "id": "6d6ba2e4-bb8a-477a-8a14-5ba71210d7d4",
   "metadata": {},
   "source": [
    "# Mechanical turk to \"write\" papers with style\n",
    "\n",
    "The idea of this experiment is to start with a title and outline of a paper on a particular topic (in this case an observational paper about an accreting pulsar), and turn that to a draft of a draft of a paper just for fun. I strongly suspect though that some collegues follow similar methodology when writing their actual papers. Don't do that! Playing with such things is fun, but publishing is unethical, and makes you look like a fool as it's perfectly clear when AI is involved (at least for now). \n",
    "\n",
    "Anyway, let's start with a title and outline (random stuff):"
   ]
  },
  {
   "cell_type": "code",
   "execution_count": 24,
   "id": "8d87059a-9c43-438e-a54a-4187058f4fd4",
   "metadata": {},
   "outputs": [],
   "source": [
    "title = \"Study of Vela X-1 states with NuSTAR\"\n",
    "outline = \"\"\"\n",
    "- Introduction (6 paragraphs)\n",
    "    * brief history of observations of the source (discovery, information relevant to NuSTAR observations)\n",
    "    * states observed with NuSTAR and other missions (off-states and flares, variability of absorbtion and spectral lines)\n",
    "    discuss origin of the off-states and possible scenarious. Mention magnetospheric inhibition and variability due to clump accretion.\n",
    "    * goals of the current investigation (conduct flux resolved spectroscopy in different states using broadband nustar data)\n",
    "- Observations and data analysis (8 paragraphs)\n",
    "    * describe NuSTAR mission briefly\n",
    "    * NuSTAR observations of the source (2 observations 50 ks each)\n",
    "    * brief description of analysis of NuSTAR data (extraction radius, energy range 3-20 keV (soft) and 20-80 keV (hard) used, time bin lightcurves, grouping of the spectra)\n",
    "    * Timing analysis (NuSTAR)\n",
    "        * description of the observed variability\n",
    "        * states detected during current observations (3 offstates with ~5ks total exposure, 1 20 min flare with 1 Crab peak brightness)\n",
    "        * pulsations and pulse profiles \n",
    "    * Spectral analysis (NuSTAR)\n",
    "        * flux resolved spectral analysis (changes in absorbtion column, continuum hardness)\n",
    "        * phase-resolved spectral analysis (8 phase bins, complex variability of parameters)\n",
    "- Discussion and conclusions (4 paragraphs)\n",
    "    * observed variability patterns\n",
    "    * implications of the observed phase dependence of photon index value\n",
    "    * need for additional observations and outlook\n",
    "- Acknoledgements (thank the anonymous referee and HEASARC data archive) \n",
    "- References\n",
    "\"\"\" "
   ]
  },
  {
   "cell_type": "markdown",
   "id": "9cac8a7d-eb17-4621-ae70-78bb6972f402",
   "metadata": {},
   "source": [
    "Now we need some hard facts to draw inspiration from (literature reviews), and some author to copy style from (in this case myself). In both cases astronomical papers are most easily found on [NASA ADS](https://ui.adsabs.harvard.edu):"
   ]
  },
  {
   "cell_type": "code",
   "execution_count": 2,
   "id": "bf187924-2c44-45d0-ab80-dd9a909db515",
   "metadata": {},
   "outputs": [],
   "source": [
    "import ads\n",
    "# load enviromental variables for API keys. Don't forget to put those in .env file\n",
    "# specifically OPENAI_API_KEY, PINECONE_API_KEY, and ADS_API_KEY\n",
    "from dotenv import load_dotenv,find_dotenv\n",
    "load_dotenv(find_dotenv())\n",
    "\n",
    "# get papers authored by myself to copy style from\n",
    "style_list = ads.SearchQuery(q='collection:astronomy AND orcid:0000-0001-8162-1105 AND author:\"^Doroshenko\"')\n",
    "style_list.execute()\n",
    "\n",
    "# get recent papers on the source in question\n",
    "content_list = ads.SearchQuery(q='title:\"Vela X-1\" AND property:refereed and year:2000-2022')\n",
    "content_list.execute()\n",
    "\n",
    "# we actually only need bibcodes, so get those\n",
    "content_list = [x.bibcode for x in content_list.articles]\n",
    "style_list = [x.bibcode for x in style_list.articles]"
   ]
  },
  {
   "cell_type": "markdown",
   "id": "b54c4563-c2da-4297-a464-f034f236a218",
   "metadata": {},
   "source": [
    "Now full texts are needed. ADS does not like that very much, so be careful with rate limits. To get text from pdfs some extra functions/imports are needed"
   ]
  },
  {
   "cell_type": "code",
   "execution_count": 3,
   "id": "8f18349e-99c3-4c1c-b874-dcb1bc16d364",
   "metadata": {},
   "outputs": [],
   "source": [
    "import requests, urllib, tempfile, os\n",
    "import fitz  # PyMuPDF\n",
    "pdf_priority = ['ads_pdf','eprint_pdf','pub_pdf'] # try ADS-stored pdf, then arxiv, then publishers (they have captchas)\n",
    "\n",
    "def extract_text_from_pdf(pdf_path):\n",
    "    document = fitz.open(pdf_path)\n",
    "    all_text = \"\"\n",
    "    for page_num in range(len(document)):\n",
    "        page = document.load_page(page_num)  # Load the page\n",
    "        all_text += page.get_text()  # Extract text from the page\n",
    "    return all_text\n",
    "\n",
    "def download_file(bibcode,priority):\n",
    "    with tempfile.NamedTemporaryFile(delete=False) as temp_file:\n",
    "        temp_filename = temp_file.name\n",
    "    request = f\"https://api.adsabs.harvard.edu/v1/resolver/{bibcode}/{pdf_priority[priority]}\"\n",
    "    # print(request)\n",
    "    response = requests.get(request,headers={'Authorization': 'Bearer ' + os.getenv('ADS_API_KEY')})\n",
    "    if response.ok:\n",
    "        url = response.json()['link']\n",
    "        urllib.request.urlretrieve(url, temp_filename)\n",
    "        return temp_filename\n",
    "    else:\n",
    "        return False\n",
    "    \n",
    "def get_fulltext(bibcode):\n",
    "    text = ''\n",
    "    for i in [0,1,2]:\n",
    "        try:\n",
    "            pdf = download_file(bibcode,i)\n",
    "            text = extract_text_from_pdf(pdf)\n",
    "            os.remove(pdf)\n",
    "            break\n",
    "        except:\n",
    "            continue\n",
    "    return text\n"
   ]
  },
  {
   "cell_type": "code",
   "execution_count": 5,
   "id": "e54de914-9afc-4c42-ab6c-cad40e5e1b93",
   "metadata": {},
   "outputs": [],
   "source": [
    "content_texts = [get_fulltext(x) for x in content_list]\n",
    "style_texts = [get_fulltext(x) for x in style_list]"
   ]
  },
  {
   "cell_type": "markdown",
   "id": "c112c55e-418e-4856-afe1-fb67336338cf",
   "metadata": {},
   "source": [
    "Now its time to split the texts to chunks and integrate to some vector database. Conquer and divide! (i.e. concatenate and then split)"
   ]
  },
  {
   "cell_type": "code",
   "execution_count": 6,
   "id": "b9ec730c-3533-4fbe-b4aa-a8c58bbae809",
   "metadata": {},
   "outputs": [],
   "source": [
    "import functools\n",
    "style = functools.reduce(lambda x,y: '\\n'+ x+'\\n'+y+'\\n', style_texts)\n",
    "content = functools.reduce(lambda x,y: '\\n'+ x+'\\n'+y+'\\n', content_texts)"
   ]
  },
  {
   "cell_type": "code",
   "execution_count": 7,
   "id": "2bd67766-f5b2-4b94-bdc8-17788d7d9bba",
   "metadata": {},
   "outputs": [],
   "source": [
    "from langchain.text_splitter import RecursiveCharacterTextSplitter\n",
    "\n",
    "text_splitter = RecursiveCharacterTextSplitter(\n",
    "    chunk_size = 1000,\n",
    "    chunk_overlap  = 200,\n",
    ")\n",
    "\n",
    "style_docs = text_splitter.create_documents([style])\n",
    "content_docs = text_splitter.create_documents([content])"
   ]
  },
  {
   "cell_type": "markdown",
   "id": "3744b0e3-286b-4bb9-b204-92cb3b84c396",
   "metadata": {},
   "source": [
    "Now we can actually feed that to pinecone (aka our vector DB, feel free to use other stuff supported by langchain)"
   ]
  },
  {
   "cell_type": "code",
   "execution_count": 8,
   "id": "c57576bc-5c97-4939-9344-a0743a8ce3a3",
   "metadata": {},
   "outputs": [],
   "source": [
    "from pinecone import Pinecone\n",
    "\n",
    "# initialize connection to pinecone (get API key at app.pinecone.io)\n",
    "api_key = os.environ.get('PINECONE_API_KEY')\n",
    "\n",
    "# configure client\n",
    "pc = Pinecone(api_key=api_key)"
   ]
  },
  {
   "cell_type": "code",
   "execution_count": 9,
   "id": "1efa4c01-b6ab-474e-bca1-d0034a5d877c",
   "metadata": {},
   "outputs": [],
   "source": [
    "from pinecone import ServerlessSpec\n",
    "\n",
    "cloud = os.environ.get('PINECONE_CLOUD') or 'aws'\n",
    "region = os.environ.get('PINECONE_REGION') or 'us-east-1'\n",
    "spec = ServerlessSpec(cloud=cloud, region=region)"
   ]
  },
  {
   "cell_type": "code",
   "execution_count": 10,
   "id": "6c8157e3-6f19-4307-9988-e46c32a654c3",
   "metadata": {},
   "outputs": [],
   "source": [
    "try:\n",
    "    pc.delete_index('turk-rag-style')\n",
    "    pc.delete_index('turk-rag-content')\n",
    "except:\n",
    "    pass\n",
    "\n",
    "pc.create_index(\n",
    "        'turk-rag-style',\n",
    "        dimension=1536,  # dimensionality of text-embedding-ada-002\n",
    "        metric='dotproduct',\n",
    "        spec=spec\n",
    "    )\n",
    "\n",
    "pc.create_index(\n",
    "        'turk-rag-content',\n",
    "        dimension=1536,  # dimensionality of text-embedding-ada-002\n",
    "        metric='dotproduct',\n",
    "        spec=spec\n",
    "    )"
   ]
  },
  {
   "cell_type": "code",
   "execution_count": 11,
   "id": "d1052070-9eef-4939-b22e-16ec9bb828b3",
   "metadata": {},
   "outputs": [
    {
     "data": {
      "text/plain": [
       "{'dimension': 1536,\n",
       " 'index_fullness': 0.0,\n",
       " 'namespaces': {},\n",
       " 'total_vector_count': 0}"
      ]
     },
     "execution_count": 11,
     "metadata": {},
     "output_type": "execute_result"
    }
   ],
   "source": [
    "index_style = pc.Index('turk-rag-style')\n",
    "index_content = pc.Index('turk-rag-content')\n",
    "# wait a moment for connection\n",
    "import time\n",
    "time.sleep(1)\n",
    "index_style.describe_index_stats()\n",
    "index_content.describe_index_stats()"
   ]
  },
  {
   "cell_type": "code",
   "execution_count": 12,
   "id": "0fd7ab37-17d0-4ef1-bce4-d7f00da87ad0",
   "metadata": {},
   "outputs": [],
   "source": [
    "from langchain_pinecone import PineconeVectorStore\n",
    "from langchain_openai import OpenAIEmbeddings\n",
    "embeddings = OpenAIEmbeddings(model=\"text-embedding-ada-002\")\n",
    "\n",
    "vectorstore_style = PineconeVectorStore.from_documents(\n",
    "        style_docs,\n",
    "        index_name='turk-rag-style',\n",
    "        embedding=embeddings\n",
    "    )\n",
    "vectorstore_content = PineconeVectorStore.from_documents(\n",
    "        content_docs,\n",
    "        index_name='turk-rag-content',\n",
    "        embedding=embeddings\n",
    "    )"
   ]
  },
  {
   "cell_type": "markdown",
   "id": "984d165a-48bd-460d-8e8f-46775452b1fa",
   "metadata": {},
   "source": [
    "Now we can setup a RAG to expand the outline using langchain. There's a lot of space for improvements with promt engineering or using more expensive models, but for now lets keep it simple."
   ]
  },
  {
   "cell_type": "code",
   "execution_count": 29,
   "id": "e95d81b8-706b-4dc7-9e14-5c9aa8df4dd0",
   "metadata": {},
   "outputs": [],
   "source": [
    "from langchain_core.output_parsers import StrOutputParser\n",
    "from langchain_core.prompts import ChatPromptTemplate\n",
    "from langchain_core.runnables import RunnablePassthrough\n",
    "from langchain_openai import ChatOpenAI, OpenAIEmbeddings\n",
    "\n",
    "\n",
    "template = \"\"\"You are a highly qualified astrophysicists writing a full-fledged observational paper about an X-ray pulsar Vela X-1 based on the outline:{outline}.\n",
    "             You expand each outline item and sub-item to at least several paragraphs using the information found here: {content}.\n",
    "             You always insert appropriate citations to back up your statements, and ensure that those are also present in references section.\n",
    "             For this paper you come up with some mock observational results to make experiment more interesting, express your creativity!\n",
    "             You describe details of analysis step by step and ensure that findings are properly interpreted. \n",
    "             You discuss physics behind the observations and elaborate on meaning of the findings from physical perspective.\n",
    "             Observational findings include spectral (continuum and line spectroscopy) and timing properties (flares, off-states, pulse-profiles.\n",
    "             You mimic the writing style in the context:{style}. You use markdown to markup the text and follow approximate lengths of various sections mentioned in the outline\n",
    "\"\"\"\n",
    "\n",
    "prompt = ChatPromptTemplate.from_template(template)\n",
    "\n",
    "model = ChatOpenAI(openai_api_key=os.environ.get('OPENAI_API_KEY'),\n",
    "    model_name='gpt-4o',\n",
    "    temperature=0.7) # play with temperature to temper model's creativity\n",
    "\n",
    "retriever_style = vectorstore_style.as_retriever()\n",
    "retriever_content = vectorstore_content.as_retriever()\n",
    "\n",
    "retrieval_chain = (\n",
    "    {\"style\": retriever_style,\"content\": retriever_content, \"outline\": RunnablePassthrough()}\n",
    "    | prompt\n",
    "    | model\n",
    "    | StrOutputParser() \n",
    ") \n",
    "\n",
    "draft = retrieval_chain.invoke(outline)\n"
   ]
  },
  {
   "cell_type": "markdown",
   "id": "5bc4fe37-6649-4e76-9a1b-6e10ac30468e",
   "metadata": {},
   "source": [
    "Now we can display what AI came up with. Obviously it needs some information to feed the randomness, so the result is not that great..."
   ]
  },
  {
   "cell_type": "code",
   "execution_count": 30,
   "id": "6354761c-9889-4210-ad28-8829264ab42f",
   "metadata": {},
   "outputs": [
    {
     "data": {
      "text/markdown": [
       "# Observational Study of the X-ray Pulsar Vela X-1 with NuSTAR\n",
       "\n",
       "## Introduction\n",
       "\n",
       "### Brief History of Observations of the Source\n",
       "Vela X-1, a well-studied high-mass X-ray binary (HMXB), was first discovered in 1975 by the Ariel V satellite (McClintock et al., 1976). The system consists of a neutron star accreting material from its OB supergiant companion, HD 77581. The pulsar exhibits a pulse period of approximately 283 seconds and orbits its companion with an orbital period of about 8.9 days (Bildsten et al., 1997). Over the decades, observations by various missions like RXTE, INTEGRAL, and Suzaku have provided a wealth of data on its timing and spectral properties, making it an ideal target for detailed study with the Nuclear Spectroscopic Telescope Array (NuSTAR).\n",
       "\n",
       "### States Observed with NuSTAR and Other Missions\n",
       "Vela X-1 is known for its complex variability, displaying off-states, flares, and significant changes in absorption and spectral lines. Observations by missions like Suzaku and INTEGRAL have shown that the source can enter low-luminosity off-states where the X-ray flux drops significantly, yet pulsations persist, indicating continued accretion onto the neutron star's magnetic poles (Watanabe et al., 2006). These states are interspersed with high-luminosity flares that can reach up to the brightness of 1 Crab, showcasing the dynamic nature of the accretion process in this system.\n",
       "\n",
       "### Origins of Off-States and Possible Scenarios\n",
       "The origin of off-states in Vela X-1 is a subject of ongoing research. One proposed mechanism is magnetospheric inhibition, where the magnetospheric boundary of the neutron star interacts with the accretion flow, temporarily halting accretion (Bozzo et al., 2008). Another possibility is the variability due to clump accretion, where dense clumps in the stellar wind cause fluctuations in the accretion rate (Ducci et al., 2009). These scenarios highlight the intricate interplay between the neutron star's magnetic field and the inhomogeneous stellar wind from the companion.\n",
       "\n",
       "### Goals of the Current Investigation\n",
       "The primary goal of this investigation is to conduct flux-resolved spectroscopy of Vela X-1 in different states using broadband data from NuSTAR. By analyzing the spectral and timing properties during off-states, flares, and intermediate states, we aim to better understand the physical processes governing the variability in this system. We also seek to explore the phase-resolved spectral behavior to gain insights into the geometry and dynamics of the accretion flow onto the neutron star.\n",
       "\n",
       "## Observations and Data Analysis\n",
       "\n",
       "### Description of the NuSTAR Mission\n",
       "The NuSTAR mission, launched in 2012, consists of two independent grazing incidence telescopes that focus X-rays between 3.0 and 79 keV onto corresponding focal planes made of cadmium zinc telluride (CZT) pixel detectors (Harrison et al., 2013). NuSTAR provides unprecedented sensitivity and high spectral resolution in the hard X-ray band, making it particularly suited for studying cyclotron resonant scattering features (CRSFs) and other high-energy phenomena in X-ray binaries like Vela X-1.\n",
       "\n",
       "### NuSTAR Observations of the Source\n",
       "NuSTAR observed Vela X-1 twice, with each observation lasting approximately 50 ks. The first observation was conducted as a calibration target early in the mission, while the second observation was aimed at scientific studies. The details of these observations, including the orbital phase derived from the ephemeris by Kreykenbohm et al. (2008), are summarized in Table 1.\n",
       "\n",
       "### Data Analysis\n",
       "We analyzed the NuSTAR data using the NuSTAR Data Analysis Software (NuSTARDAS) along with HEASOFT version 6.27.1 and the current calibration files (CALDB version 20200526). Source photons were extracted from a circular region centered on Vela X-1 with a radius of 80 arcseconds. The energy range of 3-20 keV was used for soft X-rays, and 20-80 keV for hard X-rays. Light curves with a time resolution of 0.0625 seconds were generated, and the spectra were grouped to have a minimum of 20 counts per bin to ensure robust statistical analysis.\n",
       "\n",
       "### Timing Analysis\n",
       "#### Description of Observed Variability\n",
       "The light curves revealed significant variability, including three distinct off-states with a combined duration of approximately 5 ks, and a single flare event lasting about 20 minutes with a peak brightness of 1 Crab. These features highlight the dynamic nature of the accretion process in Vela X-1.\n",
       "\n",
       "#### Pulsations and Pulse Profiles\n",
       "Pulsations with a period of approximately 283 seconds were detected, consistent with previous observations. The pulse profiles exhibited complex structures with energy-dependent variations, particularly at higher energies where a narrow dip at pulse phase ~0.75 became prominent.\n",
       "\n",
       "### Spectral Analysis\n",
       "#### Flux-Resolved Spectral Analysis\n",
       "The flux-resolved spectral analysis revealed significant changes in the absorption column density (N_H) and the continuum hardness. During off-states, the spectra showed increased N_H and softer continua, while during the flare, the N_H decreased, and the continuum hardened, indicating variable accretion dynamics.\n",
       "\n",
       "#### Phase-Resolved Spectral Analysis\n",
       "The phase-resolved spectral analysis, conducted using 8 phase bins, showed complex variability in spectral parameters. Notably, the photon index varied significantly with pulse phase, suggesting changes in the emission geometry and accretion flow dynamics as the neutron star rotates.\n",
       "\n",
       "## Discussion and Conclusions\n",
       "\n",
       "### Observed Variability Patterns\n",
       "The observed variability patterns, including off-states and flares, are indicative of the complex interaction between the neutron star's magnetosphere and the inhomogeneous stellar wind from the companion. The detection of pulsations during off-states suggests continued, albeit reduced, accretion onto the magnetic poles.\n",
       "\n",
       "### Implications of Phase-Dependence of Photon Index\n",
       "The phase-dependence of the photon index provides valuable insights into the emission geometry and accretion dynamics. Variations in the photon index with pulse phase suggest changes in the viewing angle and possibly the location of the emission regions, highlighting the complex nature of the accretion process in Vela X-1.\n",
       "\n",
       "### Need for Additional Observations and Outlook\n",
       "To further elucidate the physical processes governing the observed variability, additional observations with higher temporal and spectral resolution are needed. Future multi-wavelength observations, combining X-ray, optical, and radio data, would provide a more comprehensive understanding of the accretion dynamics and the role of the neutron star's magnetic field.\n",
       "\n",
       "## Acknowledgements\n",
       "We thank the anonymous referee for their valuable comments and suggestions. This research has made use of the NuSTAR Data Analysis Software (NuSTARDAS) jointly developed by the ASI Science Data Center (ASDC, Italy) and the California Institute of Technology (USA). We also acknowledge the HEASARC data archive for providing access to the observational data.\n",
       "\n",
       "## References\n",
       "- Basko, M. M., & Sunyaev, R. A., 1976, MNRAS, 175, 395\n",
       "- Becker, P. A., et al., 2012, A&A, 544, A123\n",
       "- Becker, P. A., & Wolff, M. T., 2007, ApJ, 654, 435\n",
       "- Bildsten, L., et al., 1997, ApJS, 113, 367\n",
       "- Blondin, J. M., Stevens, I. R., & Kallman, T. R., 1991, ApJ, 371, 684\n",
       "- Bozzo, E., Falanga, M., & Stella, L., 2008, ApJ, 683, 1031\n",
       "- Ducci, L., Sidoli, L., Mereghetti, S., Paizis, A., & Romano, P., 2009, MNRAS, 398, 2152\n",
       "- Harrison, F. A., et al., 2013, ApJ, 770, 103\n",
       "- Kreykenbohm, I., Wilms, J., Kretschmar, P., et al. 2008, A&A, 492, 511\n",
       "- McClintock, J. E., et al., 1976, ApJ, 206, L99\n",
       "- Watanabe, S., Sako, M., Ishida, M., et al., 2006, ApJ, 651, 421"
      ],
      "text/plain": [
       "<IPython.core.display.Markdown object>"
      ]
     },
     "metadata": {},
     "output_type": "display_data"
    }
   ],
   "source": [
    "from IPython.display import display, Markdown\n",
    "display(Markdown(draft))"
   ]
  },
  {
   "cell_type": "markdown",
   "id": "e97d92cf-88e2-4cea-8d8d-2af874043c60",
   "metadata": {},
   "source": [
    "A better result could be achieved with some information from found papers included in the search, i.e. promt engineering. That could be done by a) extracting key facts from reviews, b) providing some examples of what can go into various sections, and c) many other things! That's not the point, however, this experiment is mainly meant as a fun way to learn a bit about LLMs."
   ]
  },
  {
   "cell_type": "code",
   "execution_count": null,
   "id": "f4fa13dc-3640-47b5-9e3f-912e9087c661",
   "metadata": {},
   "outputs": [],
   "source": []
  }
 ],
 "metadata": {
  "kernelspec": {
   "display_name": "Python 3 (ipykernel)",
   "language": "python",
   "name": "python3"
  },
  "language_info": {
   "codemirror_mode": {
    "name": "ipython",
    "version": 3
   },
   "file_extension": ".py",
   "mimetype": "text/x-python",
   "name": "python",
   "nbconvert_exporter": "python",
   "pygments_lexer": "ipython3",
   "version": "3.12.3"
  }
 },
 "nbformat": 4,
 "nbformat_minor": 5
}
