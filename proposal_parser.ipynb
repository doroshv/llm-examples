{
 "cells": [
  {
   "cell_type": "markdown",
   "id": "6d6ba2e4-bb8a-477a-8a14-5ba71210d7d4",
   "metadata": {},
   "source": [
    "# Proposal review assist tool\n",
    "\n",
    "The code below is a (mild) re-factoring of the mess I created when serving on one of the panels reviewing observational proposals for one of the ESA missions. Well, actually, two missions because my agreement to serve in one of those was transferred from previous cycle, so there was a problem in a form of 70+ to read rather than 20 that I expected. I am a lazy person and had some time to play with LLMs, so sketched an agentic RAG to help me with the task. Ultimately, it did not work fully reliable, so I had to read proposals anyway, but playing with LLMs made this task less boring :) Here I just updated some stuff to account for updates of various packages, and removed sensitive information. I also made it a bit simpler by looking at a single proposal (one of old ones written by me) whereas in principle it should be a function to loop over a set of proposal pdfs.  \n",
    "\n",
    "Proposals are typically expected to be ranked by several categories, i.e. reviewer needs to answer several questions and then decide whether proposal is worth to be granted based on those answers. For instance, those could be something like:\n",
    "* aims of the proposal\n",
    "* science adressed\n",
    "* proposal strengths\n",
    "* proposal weaknesses\n",
    "* relevance of a mission in context of the proposal\n",
    "* ... can science be done with other facility...\n",
    "\n",
    "Usually not too many as the answers to those questions also need to be summarized very briefly in the final report. Unfortunately, relevant information is not always contained in the proposal text itself (either because authors prefer not to, or simply due to the lack of space). The basic idea was thus to parse the text and extract relevant references, search for them at ADS, download relevant pdfs and use those as context to answer the questions which need to be answered. As commonly done, context is accumulated via RAG. Here I use pinecore to store embedings, but in principle any vector DB will do. Let us start by reading the pdf of the proposal\n"
   ]
  },
  {
   "cell_type": "code",
   "execution_count": 151,
   "id": "8f18349e-99c3-4c1c-b874-dcb1bc16d364",
   "metadata": {},
   "outputs": [],
   "source": [
    "import PyPDF2\n",
    "import ads\n",
    "\n",
    "# load enviromental variables for API keys. Don't forget to put those in .env file\n",
    "# specifically OPENAI_API_KEY, PINECONE_API_KEY, and ADS_API_KEY\n",
    "from dotenv import load_dotenv,find_dotenv\n",
    "load_dotenv(find_dotenv())\n",
    "\n",
    "import fitz  # PyMuPDF\n",
    "\n",
    "\n",
    "def extract_text_from_pdf(pdf_path):\n",
    "    with open(pdf_path, 'rb') as file:\n",
    "        reader = PyPDF2.PdfFileReader(file)\n",
    "        text = ''.encode('utf-8', 'ignore')\n",
    "        for page_num in range(reader.numPages):\n",
    "            page = reader.getPage(page_num)\n",
    "            text += page.extractText().encode('utf-8', 'ignore')\n",
    "    return text.decode('utf-8')\n",
    "\n",
    "def extract_text_from_pdf_fitz(pdf_path):\n",
    "    document = fitz.open(pdf_path)\n",
    "    all_text = \"\"\n",
    "    for page_num in range(len(document)):\n",
    "        page = document.load_page(page_num)  # Load the page\n",
    "        all_text += page.get_text()  # Extract text from the page\n",
    "    return all_text\n",
    "\n",
    "    \n",
    "pdf_path = 'xmm_ao17_groj1744.pdf'  # Replace with your PDF file path\n",
    "proposal_text = extract_text_from_pdf_fitz(pdf_path)"
   ]
  },
  {
   "cell_type": "markdown",
   "id": "de426dfc-3d2d-4354-9768-1aaf51447d4c",
   "metadata": {},
   "source": [
    "Proposal format is predefined, i.e. references shall be at the end. We can thus cut only the interesting part of the text to save some tokens"
   ]
  },
  {
   "cell_type": "code",
   "execution_count": 152,
   "id": "e54de914-9afc-4c42-ab6c-cad40e5e1b93",
   "metadata": {},
   "outputs": [
    {
     "name": "stdout",
     "output_type": "stream",
     "text": [
      "The dark side of the bursting pulsar\n",
      "PI: V. Doroshenko\n",
      "COIs: A. Santangelo, S. Tsygankov, A. Mushtukov, R. Doroshenko, V. Suleimanov\n",
      "1. Abstract\n",
      "GRO J1744−28 is a unique source which appears as a transient accreting pulsar and a peculiar X-ray burster.\n",
      "This unusual combination of properties is thought to be due to the magnetic ﬁeld strengh of the neutron\n",
      "star, which being B ∼5 × 1011 G is both signiﬁcantly higher than in accreting millisecond pulsars but\n",
      "lower than those of normal X-ray pulsars. Given the estimated ﬁeld, it has been suggested that outside of\n",
      "the outbursts the source shall switch to the so-called “propeller” regime when the accretion is centrifugally\n",
      "inhibited, and only non-pulsed thermal emission from neutron stars surface could still be observed. However,\n",
      "several serendipuous detections of GRO J1744−28 in quiescence revealed a spectrum fully compatible with\n",
      "that observed during the outbursts rather than much softer spectrum expected from a pulsar in “propeller”\n",
      "regime. It is unclear, therefore, whether accretion is indeed inhibited and, if not, how the accreted plasma\n",
      "overcomes the centrifugal barrier. We propose a 50 ks XMM observation of the source in quiescence to\n",
      "investigate the physical origin of the observed X-ray emission.\n",
      "2. Description of the proposed programme\n",
      "A) Scientiﬁc Rationale:\n",
      "GRO J1744−28, also known as the bursting pulsar was discovered in 1995 during a major outburst, one\n",
      "of the three observed to date. The peak outburst luminosity reaches ∼1038 erg s−1, while quiescent ﬂux\n",
      "is much lower at 1033−34 erg s−1 (Wijnands & Wang 2002; Daigne et al. 2002; Degenaar et al. 2012). At\n",
      "high luminosities the source appears as an X-ray pulsar with period of ∼0.467 s orbiting a low mass (0.2-\n",
      "0.7 M⊙) companion in a circular ∼11.8 d orbit (Rappaport & Joss 1997). The photoelectric absorption\n",
      "does not change signiﬁcantly during the outbursts and is comparable with interstellar absorption NH ∼\n",
      "(5−6)×1022 cm−2 in the direction of the Galactic center where the source is located at a distance of ∼8 kpc\n",
      "(Nishiuchi et al. 1999). The distance estimate is, however, rather uncertain, and the source can be as close\n",
      "as ∼3.5 kpc (Sanna et al. 2017).\n",
      "Probably the most unusual property of GRO J1744−28 are the short ∼10 s bursts of X-ray emission\n",
      "with hard spectrum which are thought to be due to a rapid increase of the accretion rate triggered by\n",
      "magnetospheric instabilities.\n",
      "We have recently shown, however, that besides the hard component, the\n",
      "bursts contain a time-dependent thermal component similar to that observed in normal X-ray bursters\n",
      "(Doroshenko et al. 2015).\n",
      "We also independently discovered a narrow absorbtion feature at ∼4.7 keV,\n",
      "which is interpreted as a cyclotron line (D’A`\n",
      "ı et al. 2015; Doroshenko et al. 2015) and implies surface ﬁeld\n",
      "of ∼5 × 1011 G. This is signiﬁcantly lower than those of normal X-ray pulsars, yet higher than in accreting\n",
      "millisecond pulsars. Such a low ﬁeld is probably related to the peculiar observed properties of the pulsar,\n",
      "and in particular the short bursts.\n",
      "Magnetic ﬁelds can also be estimated from the observed spin-up rate. However, the situation is complicated\n",
      "by the uncertainties in distance, spin-down torque, and coupling radius between the disc and magnetosphere.\n",
      "On the other hand, assuming the ﬁeld strengh is known, Sanna et al. (2017) concluded that to explain the\n",
      "observed spin-up the source must be relatively close (i.e. ∼3.5 kpc), and that accretion disc must push\n",
      "comparatively deep into the magnetosphere (∼0.2 −0.4RA, where RA is the Alfv´\n",
      "en radius).\n",
      "Another estimate of the ﬁeld has been obtained based on the claimed transition to the so-called “propeller”\n",
      "regime at the end of 1996 outburst (Illarionov & Sunyaev 1975; Cui 1997). Rotating magnetosphere of the\n",
      "pulsar expands as the accretion rate drops, so linear velocity of ﬁeld lines must exceed local Keplerian\n",
      "velocity at some stage, and the accretion is inhibited. Transition to this regime has been recently detected\n",
      "by our group in several accreting pulsars (Tsygankov et al. 2016a), and accreting magnetars (Tsygankov\n",
      "et al. 2016b, 2017a). We have found, however, that in some cases instead of the “propeller” regime, a stable\n",
      "low level accretion state sets in, which we have interpreted as accretion from a cold, non-ionized accretion\n",
      "disc (Tsygankov et al. 2017b,c; Doroshenko et al. 2014).\n",
      "Whether a given source enters the “propeller” regime or low-ionized accretion disc accretion at low ac-\n",
      "cretion rates depends on the inner disc temperature at the time of the expected “propeller” transition,\n",
      "1\n",
      "and depends only on fundamental parameters of the neutron star (Tsygankov et al. 2017b). It is expected\n",
      "that pulsars with periods shorter than P = 36.6k6/7B0.49\n",
      "12 M−0.17\n",
      "1.4\n",
      "R1.22\n",
      "6\n",
      "s shall end up in the propeller regime\n",
      "(Tsygankov et al. 2017b). Here k ∼0.5 is inner disc radius expressed in units of Alfv´\n",
      "en radius Rdisc = kRA,\n",
      "and B12 = B/1012, M1.4 = M/1.4M⊙, R6 = R/106 are neutron star parameters. For GRO J1744−28 we\n",
      "ﬁnd P∗∼6 −13 s, as illustrated in Fig. 1, i.e. it is expected to switch to the propeller below 1035−36 erg/s\n",
      "(depending on the assumed value of k), in line with suggestion by Cui (1997). Note that it must also be\n",
      "the case if the disc for some reason pushes deeper into the magnetosphere than usually assumed (D’A`\n",
      "ı\n",
      "et al. 2015; Sanna et al. 2017). Below this luminosity accretion must be centrifugally inhibited. Indeed\n",
      "GRO J1744−28 has only been detected in quiescence at much lower level at Lx ∼1033 erg/s (Daigne et al.\n",
      "2002; Wijnands & Wang 2002) comparable with luminosity observed in other “propeller” sources.\n",
      "Closer inspection of the quiescent spectrum suggests, however, that the source might continue to accrete\n",
      "even at this luminosity.\n",
      "Indeed, in the “propeller” regime only relatively soft (kT ∼0.5 keV) thermal\n",
      "emission from the neutron star surface is expected to be observed, which is consistent with the observed\n",
      "spectra of V 0332+53 and 4U 0115+53 at low luminosities (Tsygankov et al. 2016a). On the other hand,\n",
      "observed spectrum of GRO J1744−28 in quiescence is signiﬁcantly harder as illustrated in Fig. 1. In fact, it\n",
      "appears to be fully consistent with the spectrum of the source observed during the outbursts implying that\n",
      "the observed X-ray emission is likely to be accretion powered also in quiescence. The centrifugal inhibition\n",
      "appears thus to be ineﬀective for yet unknown reason. This, if true, will have a profound impact on our\n",
      "understanding of the accretion mechanisms at low accretion rates and of the spin evolution of magnetized\n",
      "neutron stars. It is essential, however, to prove that the accretion indeed continues, which is the main goal\n",
      "of the proposed investigation.\n",
      "\u0006\n",
      "\u0005\u0004\n",
      "\u0007\n",
      "\n",
      "\u0006\u0005 \u000b",
      "\n",
      "\u0006\u0005 \n",
      "\u0006\u0005 \t\n",
      "\u001a\u0016\u0013\u0007\u0001\u0002\u0010\u0019\u001e",
      "\"\u001e",
      "\u001d",
      "!\u0001\u0014\u001c",
      " \u0007\u0001! \u0006\u0001\u001a\u0016\u0013 \u0006\u0003\n",
      "\u000f\u001d",
      "\u0016 \u0018%\u0001\u0002\u001a\u0016\u0013\u0003\n",
      "Figure 1: Left: Collection of some known NS XRBs on the B−P plane. Binaries with Be-type donor star\n",
      "are shown in black and green (weak persistent sources). We also show GRO J1744−28 (red), the unique\n",
      "accreting millisecond pulsar SAX J1808.4-3658, and the accreting magnetar M82 X-2 (both blue). The solid\n",
      "and dashed lines correspond to model prediction by Tsygankov et al. (2017b) separating the parameter\n",
      "space for the “propeller” and cold disc accretion for Rdisc = 0.2/0.5RA.\n",
      "Right: Unfolded spectrum of\n",
      "GRO J1744−28 in quiescence as observed with XMM-Newton (obs. 0506291201, colors correspond to two\n",
      "MOS cameras). A cutoﬀpower law model with parameters ﬁxed to those reported in Doroshenko et al.\n",
      "(2015) for outburst spectrum with only normalization adjusted, and a blackbody with temperature ﬁxed to\n",
      "0.5 keV similar to that observed in other propeller sources are also shown for reference. GRO J1744−28\n",
      "appears to be signiﬁcantly harder kT ∼1.2 keV, however, the statistics is insuﬃcient to discriminate between\n",
      "the models.\n",
      "B) Immediate Objective:\n",
      "With the proposed observation is aimed to unveil the origin of the quiescent emission of the bursting pulsar.\n",
      "In particular, we will verify whether the source indeed continues to accrete through 1) variability analysis;\n",
      "2) detection of the pulsations; and 3)comparison of a high quality X-ray spectrum with that observed\n",
      "2\n",
      "2000\n",
      "4000\n",
      "6000\n",
      "8000\n",
      "10000\n",
      "Photons\n",
      "0.08\n",
      "0.10\n",
      "0.12\n",
      "0.14\n",
      "0.16\n",
      "0.18\n",
      "0.20\n",
      "0.22\n",
      "Pulsed fraction\n",
      "0.40\n",
      "0.42\n",
      "0.44\n",
      "0.46\n",
      "0.48\n",
      "0.50\n",
      "Trial period\n",
      "0.0\n",
      "2.5\n",
      "5.0\n",
      "7.5\n",
      "10.0\n",
      "12.5\n",
      "15.0\n",
      "17.5\n",
      "Z2\n",
      "1\n",
      "Figure 2: Left: minimum pulsed fraction detectable at 3σ signiﬁcance as function of number of photons. The\n",
      "horisontal and vertical lines indicate the expected pulsed fraction and number of photons in the proposed\n",
      "obervation respectively. Right: A periodogram computed using the Rayleigh test (Z2\n",
      "1) and a simulated 50 ks\n",
      "lightcurve containing sinusoidal pulsations with 0.467 period and 10% pulsed fraction (main peak in the\n",
      "periodogram).\n",
      "in outburst and with spectra of other accreting and “propelling” sources. Furthermore, comparison of the\n",
      "observed pulse period with the values reported during the recent outburst of the source will allow to measure\n",
      "the observed rate of spin frequency change in quiescence. Comparison with the spin evolution of the source\n",
      "during the outburst can then be used to put additional constrains on distance to the source and eﬀective\n",
      "magnetospheric radius (Sanna et al. 2017).\n",
      "3. Justiﬁcation of requested observing time, feasibility and visibility\n",
      "GRO J1744−28 has alredy been observed in quiescence a number of times with XMM-Newton, and\n",
      "Chandra, however, none of the observations are suitable to achieve our goals. Most of the observations\n",
      "are short (1-5 ks) monitoring pointings of the Galactic centre not targeting speciﬁcally the source. The\n",
      "two longer XMM observations in quiescence (0506291201, 38 ks, and 0794580301, 25 ks) were performed\n",
      "in modes unsuitable to search for the pulsations in GRO J1744−28. The former was devoted to study\n",
      "another transient GRS 1741.9−2853, so GRO J1744−28 was only observed with MOS with insuﬃcient time\n",
      "resolution. On the other hand, quality of X-ray spectrum in this observation is hampered by relatively high\n",
      "soft-proton background and the position of the source at the very edge of the ﬁeld of view.\n",
      "The second observation (0794580301) was likely triggered by an increased activity from GRO J1744−28\n",
      "in Swift/BAT data and targeted at GRO J1744−28 in anticipation of a new outburst. All EPIC cameras\n",
      "were thus operating in timing mode. The outburst, however, did not set in and the source was not detected\n",
      "due to a high background in timing mode.\n",
      "Finally, it appears that neither observation was actually sensitive enough to allow detection of pulsa-\n",
      "tions at the expected ﬂux level of ∼10−12 erg cm−2 s−1. Indeed, from the observed MOS spectrum (obs.\n",
      "0506291201, see Fig. 1) we estimate 0.5-10 keV ﬂux at ∼1.3 × 10−12 erg cm−2 s−1, which corresponds to\n",
      "a combined countrate of ∼0.1 from all three EPIC cameras. The exposure required to signiﬁcantly de-\n",
      "tect pulsations at this countrate can be estimated for instance using the bootstrap method. The pulsed\n",
      "fraction in the soft X-ray band was reported to be almost constant throughout the outbursts at ∼10%,\n",
      "so similar value can be anticipated in quiescence. To estimate sensitivity to pulsations we simulated 104\n",
      "pulsed and unpulsed lightcurves containing the expected number of source and background photons (∼5000\n",
      "and 2000 respectively), and compared the distributions of Z2\n",
      "1 statistics (de Jager et al. 1989) at the input\n",
      "pulse frequency. For each countrate we then determined the minimal pulsed fraction such that for ≥99.7%\n",
      "realisations the Z2\n",
      "1 value of pulsed lightcurve exceeds that of the unpulsed. The results are presented in\n",
      "Fig. 2 and imply that ∼50 ks XMM observation is required to robustly detect the pulsations. Given the low\n",
      "3\n",
      "source countrate, the observation must be performed in full-frame mode for PN and small-window mode for\n",
      "MOS cameras to ensure eﬀective background rejection and suﬃcient time resolution. The resulting accuracy\n",
      "of pulse period determination ∆P ∼10−7 s is comparable with reported uncertanties from Fermi/GBM, so\n",
      "meaningful comparison will be also possible.\n",
      "The 50 ks exposure will yield also an energy spectrum of suﬃcient quality to conﬁdently rule out thermal\n",
      "origin of the observed emission and constrain emission region size. With the available 29 ks exposure (obs.\n",
      "0506291201 after screening of high background periods, two MOS cameras only), the best-ﬁt blackbody\n",
      "temperature of kT = 1.2(1) (at 1σ conﬁdence) is already signiﬁcantly higher than reported for other sources\n",
      "kT < 0.55 keV. However, the spectrum can still be described with a blackbody/atmosphere model. The\n",
      "proposed observation will almost triple the total exposure, which, together with the addition of PN data,\n",
      "will allow easy discrimination between the cutoﬀpower law and a blackbody like spectrum and decrease the\n",
      "uncertainty for spectral parameters by factor of ﬁve.\n",
      "We have veriﬁed that the target is observable multiple times within the AO17 period (Aug-Oct 2018, and\n",
      "March-Apr 2019).\n",
      "4. Report on the last use of XMM-Newton data\n",
      "Recently granted observations include the 50ks XMM-Newton observation of another accreting pulsar (1A\n",
      "0535+262) in quiescence (AO10, proposal id: 067418, Accreting pulsars in quiescence, PI: Doroshenko, V.),\n",
      "and two joint NuSTAR/XMM observations of another pulsar V 0332+53 (AO14, 35ks each, proposal id\n",
      "076347). The results of both investigations are published. The data obtained in 30 ks observation of the\n",
      "SNR G 96.0+2.0 (AO16, proposal id 08034502, PI: Klochkov, D.) are currently being analyzed by VD and\n",
      "a publication is being prepared.\n",
      "5. Most relevant proposer’s publications\n",
      "Doroshenko, R.; Santangelo, A.; Doroshenko, V.; Suleimanov, V.; Piraino, S.; 2015, MNRAS, 452, 3:\n",
      "“BeppoSAX observations of GRO J1744−28: cyclotron line detection and the softening of the burst spectra”\n",
      "Doroshenko, V.; Santangelo, A.; Doroshenko, R.; Caballero, I.; Tsygankov, S.; Rothschild, R.; 2014, A&A,\n",
      "561, A96: “XMM-Newton observations of 1A 0535+262 in quiescence”\n",
      "Tsygankov, S. S.; Lutovinov, A. A.; Doroshenko, V.; Mushtukov, A. A.; Suleimanov, V.; Poutanen, J.; 2016,\n",
      "A&A, 593, A16: “Propeller eﬀect in two brightest transient X-ray pulsars: 4U 0115+63 and V 0332+53”\n",
      "Tsygankov, S. S.; Mushtukov, A. A.; Suleimanov, V. F.; Doroshenko, V.; Abolmasov, P. K.; Lutovinov, A.\n",
      "A.; Poutanen, J.; A&A (accepted, arXiv:1703.04528): “Stable accretion from a cold disc in highly magne-\n",
      "tized neutron stars”\n",
      "References\n",
      "Cui, W. 1997, , 482, L163\n",
      "D’A`\n",
      "ı, A., Di Salvo, T., Iaria, R., et al. 2015, , 449, 4288\n",
      "Daigne, F., Goldoni, P., Ferrando, P., et al. 2002, , 386, 531\n",
      "de Jager, O. C., Raubenheimer, B. C., & Swanepoel, J. W. H. 1989, , 221, 180\n",
      "Degenaar, N., Wijnands, R., Cackett, E. M., et al. 2012, , 545, A49\n",
      "Doroshenko, R., Santangelo, A., Doroshenko, V., Suleimanov, V., & Piraino, S. 2015, , 452, 2490\n",
      "Doroshenko, V., Santangelo, A., Doroshenko, R., et al. 2014, , 561, A96\n",
      "Illarionov, A. F. & Sunyaev, R. A. 1975, , 39, 185\n",
      "Nishiuchi, M., Koyama, K., Maeda, Y., et al. 1999, , 517, 436\n",
      "Rappaport, S. & Joss, P. C. 1997, , 486, 435\n",
      "Sanna, A., Riggio, A., Burderi, L., et al. 2017, , 469, 2\n",
      "Tsygankov, S. S., Doroshenko, V., Lutovinov, A. A., Mushtukov, A. A., & Poutanen, J. 2017a, , 605, A39\n",
      "Tsygankov, S. S., Lutovinov, A. A., Doroshenko, V., et al. 2016a, , 593, A16\n",
      "Tsygankov, S. S., Mushtukov, A. A., Suleimanov, V. F., et al. 2017b, ArXiv e-prints\n",
      "Tsygankov, S. S., Mushtukov, A. A., Suleimanov, V. F., & Poutanen, J. 2016b, , 457, 1101\n",
      "Tsygankov, S. S., Wijnands, R., Lutovinov, A. A., Degenaar, N., & Poutanen, J. 2017c, , 470, 126\n",
      "Wijnands, R. & Wang, Q. D. 2002, , 568, L93\n",
      "4\n",
      "\n"
     ]
    }
   ],
   "source": [
    "print(proposal_text)"
   ]
  },
  {
   "cell_type": "code",
   "execution_count": 153,
   "id": "834789f0-e4fe-4bd2-8050-6b305a640c72",
   "metadata": {},
   "outputs": [],
   "source": [
    "references_text = proposal_text[proposal_text.find('References\\n'):]"
   ]
  },
  {
   "cell_type": "code",
   "execution_count": 154,
   "id": "390732ec-83cc-4ed7-960e-9e266b1a1b93",
   "metadata": {},
   "outputs": [
    {
     "name": "stdout",
     "output_type": "stream",
     "text": [
      "References\n",
      "Cui, W. 1997, , 482, L163\n",
      "D’A`\n",
      "ı, A., Di Salvo, T., Iaria, R., et al. 2015, , 449, 4288\n",
      "Daigne, F., Goldoni, P., Ferrando, P., et al. 2002, , 386, 531\n",
      "de Jager, O. C., Raubenheimer, B. C., & Swanepoel, J. W. H. 1989, , 221, 180\n",
      "Degenaar, N., Wijnands, R., Cackett, E. M., et al. 2012, , 545, A49\n",
      "Doroshenko, R., Santangelo, A., Doroshenko, V., Suleimanov, V., & Piraino, S. 2015, , 452, 2490\n",
      "Doroshenko, V., Santangelo, A., Doroshenko, R., et al. 2014, , 561, A96\n",
      "Illarionov, A. F. & Sunyaev, R. A. 1975, , 39, 185\n",
      "Nishiuchi, M., Koyama, K., Maeda, Y., et al. 1999, , 517, 436\n",
      "Rappaport, S. & Joss, P. C. 1997, , 486, 435\n",
      "Sanna, A., Riggio, A., Burderi, L., et al. 2017, , 469, 2\n",
      "Tsygankov, S. S., Doroshenko, V., Lutovinov, A. A., Mushtukov, A. A., & Poutanen, J. 2017a, , 605, A39\n",
      "Tsygankov, S. S., Lutovinov, A. A., Doroshenko, V., et al. 2016a, , 593, A16\n",
      "Tsygankov, S. S., Mushtukov, A. A., Suleimanov, V. F., et al. 2017b, ArXiv e-prints\n",
      "Tsygankov, S. S., Mushtukov, A. A., Suleimanov, V. F., & Poutanen, J. 2016b, , 457, 1101\n",
      "Tsygankov, S. S., Wijnands, R., Lutovinov, A. A., Degenaar, N., & Poutanen, J. 2017c, , 470, 126\n",
      "Wijnands, R. & Wang, Q. D. 2002, , 568, L93\n",
      "4\n",
      "\n"
     ]
    }
   ],
   "source": [
    "print(references_text)"
   ]
  },
  {
   "cell_type": "markdown",
   "id": "ae36792b-f8c4-426d-a741-8763c3fc551e",
   "metadata": {},
   "source": [
    "This has really simple format, but different authors may do it differently, so using LLMs is a more robust approach. Use OpenAI API for that:"
   ]
  },
  {
   "cell_type": "code",
   "execution_count": 155,
   "id": "9cc72722-14e4-49f2-bfbf-69884a67aece",
   "metadata": {},
   "outputs": [],
   "source": [
    "promt = \"\"\"You are a publication list parser. You parse the text consisting of textual references \n",
    "           to papers and output each publication in a separate line. Each line contains a \n",
    "           list of authors for a given publication and year of the publication as last element.\n",
    "           You put all author names in quotation marks, remove et al. throughout the text.\n",
    "           Substitute special characters with equivalent utf-8 symbols. Year must not contain any letters and must be a number separated by same symbol as authors in the author list. The text is:\"\"\""
   ]
  },
  {
   "cell_type": "code",
   "execution_count": 156,
   "id": "940460a9-619e-427d-ae70-e9f30d45d6a4",
   "metadata": {},
   "outputs": [],
   "source": [
    "from openai import OpenAI\n",
    "client = OpenAI()\n",
    "\n",
    "completion = client.chat.completions.create(\n",
    "  model=\"gpt-3.5-turbo\",\n",
    "  messages=[\n",
    "    {\"role\": \"system\", \"content\": promt},\n",
    "    {\"role\": \"user\", \"content\": references_text}\n",
    "  ], temperature=0\n",
    ")"
   ]
  },
  {
   "cell_type": "markdown",
   "id": "321baf11-a9b5-4f41-918d-7c01fff32096",
   "metadata": {},
   "source": [
    "So now we have reference strings parsed by GPT"
   ]
  },
  {
   "cell_type": "code",
   "execution_count": 157,
   "id": "ea171bc9-a9e4-4b7c-880a-107ae20c17ce",
   "metadata": {},
   "outputs": [
    {
     "name": "stdout",
     "output_type": "stream",
     "text": [
      "['[\"Cui, W.\"] 1997', '[\"D’Aı, A.\", \"Di Salvo, T.\", \"Iaria, R.\"] 2015', '[\"Daigne, F.\", \"Goldoni, P.\", \"Ferrando, P.\"] 2002', '[\"de Jager, O. C.\", \"Raubenheimer, B. C.\", \"Swanepoel, J. W. H.\"] 1989', '[\"Degenaar, N.\", \"Wijnands, R.\", \"Cackett, E. M.\"] 2012', '[\"Doroshenko, R.\", \"Santangelo, A.\", \"Doroshenko, V.\", \"Suleimanov, V.\", \"Piraino, S.\"] 2015', '[\"Doroshenko, V.\", \"Santangelo, A.\", \"Doroshenko, R.\"] 2014', '[\"Illarionov, A. F.\", \"Sunyaev, R. A.\"] 1975', '[\"Nishiuchi, M.\", \"Koyama, K.\", \"Maeda, Y.\"] 1999', '[\"Rappaport, S.\", \"Joss, P. C.\"] 1997', '[\"Sanna, A.\", \"Riggio, A.\", \"Burderi, L.\"] 2017', '[\"Tsygankov, S. S.\", \"Doroshenko, V.\", \"Lutovinov, A. A.\", \"Mushtukov, A. A.\", \"Poutanen, J.\"] 2017', '[\"Tsygankov, S. S.\", \"Lutovinov, A. A.\", \"Doroshenko, V.\"] 2016', '[\"Tsygankov, S. S.\", \"Mushtukov, A. A.\", \"Suleimanov, V. F.\"] 2017', '[\"Tsygankov, S. S.\", \"Mushtukov, A. A.\", \"Suleimanov, V. F.\", \"Poutanen, J.\"] 2016', '[\"Tsygankov, S. S.\", \"Wijnands, R.\", \"Lutovinov, A. A.\", \"Degenaar, N.\", \"Poutanen, J.\"] 2017', '[\"Wijnands, R.\", \"Wang, Q. D.\"] 2002']\n"
     ]
    }
   ],
   "source": [
    "paper_search_strings = completion.choices[0].message.content.split('\\n')\n",
    "print(paper_search_strings)"
   ]
  },
  {
   "cell_type": "markdown",
   "id": "5ec69e01-e129-4e5b-b069-1a51e4cd25b7",
   "metadata": {},
   "source": [
    "It's time to search for ADS papers. The easiest way is just to query for same author list and year, hence the LLM formatting above. Here, however, there are couple of issues. First, some papers are not found due to various reasons (unicode issues, simply wrong references given by authors etc), second there may be too many results. This can be due to truncation of the author list done in some proposals (to save space), or simply due to a very common name of the first author. Still, it makes sense to retrieve all abstracts, and then just filter most similar papers using abstract embeddings."
   ]
  },
  {
   "cell_type": "code",
   "execution_count": 158,
   "id": "1ab29955-a33e-410d-b69d-a796a7ebe9c2",
   "metadata": {},
   "outputs": [
    {
     "name": "stdout",
     "output_type": "stream",
     "text": [
      "collection:astronomy AND author:\"^Cui, W.\" AND year:1997\n",
      "collection:astronomy AND author:\"^D’Aı, A.\" author:\"Di Salvo, T.\" AND  author:\"Iaria, R.\" AND year:2015\n",
      "collection:astronomy AND author:\"^Daigne, F.\" author:\"Goldoni, P.\" AND  author:\"Ferrando, P.\" AND year:2002\n",
      "collection:astronomy AND author:\"^de Jager, O. C.\" author:\"Raubenheimer, B. C.\" AND  author:\"Swanepoel, J. W. H.\" AND year:1989\n",
      "collection:astronomy AND author:\"^Degenaar, N.\" author:\"Wijnands, R.\" AND  author:\"Cackett, E. M.\" AND year:2012\n",
      "collection:astronomy AND author:\"^Doroshenko, R.\" author:\"Santangelo, A.\" AND  author:\"Doroshenko, V.\" AND  author:\"Suleimanov, V.\" AND  author:\"Piraino, S.\" AND year:2015\n",
      "collection:astronomy AND author:\"^Doroshenko, V.\" author:\"Santangelo, A.\" AND  author:\"Doroshenko, R.\" AND year:2014\n",
      "collection:astronomy AND author:\"^Illarionov, A. F.\" author:\"Sunyaev, R. A.\" AND year:1975\n",
      "collection:astronomy AND author:\"^Nishiuchi, M.\" author:\"Koyama, K.\" AND  author:\"Maeda, Y.\" AND year:1999\n",
      "collection:astronomy AND author:\"^Rappaport, S.\" author:\"Joss, P. C.\" AND year:1997\n",
      "collection:astronomy AND author:\"^Sanna, A.\" author:\"Riggio, A.\" AND  author:\"Burderi, L.\" AND year:2017\n",
      "collection:astronomy AND author:\"^Tsygankov, S. S.\" author:\"Doroshenko, V.\" AND  author:\"Lutovinov, A. A.\" AND  author:\"Mushtukov, A. A.\" AND  author:\"Poutanen, J.\" AND year:2017\n",
      "collection:astronomy AND author:\"^Tsygankov, S. S.\" author:\"Lutovinov, A. A.\" AND  author:\"Doroshenko, V.\" AND year:2016\n",
      "collection:astronomy AND author:\"^Tsygankov, S. S.\" author:\"Mushtukov, A. A.\" AND  author:\"Suleimanov, V. F.\" AND year:2017\n",
      "collection:astronomy AND author:\"^Tsygankov, S. S.\" author:\"Mushtukov, A. A.\" AND  author:\"Suleimanov, V. F.\" AND  author:\"Poutanen, J.\" AND year:2016\n",
      "collection:astronomy AND author:\"^Tsygankov, S. S.\" author:\"Wijnands, R.\" AND  author:\"Lutovinov, A. A.\" AND  author:\"Degenaar, N.\" AND  author:\"Poutanen, J.\" AND year:2017\n",
      "collection:astronomy AND author:\"^Wijnands, R.\" author:\"Wang, Q. D.\" AND year:2002\n"
     ]
    }
   ],
   "source": [
    "import re, ads\n",
    "\n",
    "def search_ads(search_string):\n",
    "    authors = re.findall(r'\"([^\"]*)\"',search_string)\n",
    "    year = re.findall('[0-9][0-9][0-9][0-9]',search_string)\n",
    "    query = f'collection:astronomy AND author:\"^{authors[0]}\"'+\" AND \".join([f' author:\"{x}\"' for x in authors[1:]])+f\" AND year:{year[0]}\"\n",
    "    res = ads.SearchQuery(q=query)\n",
    "    print(query)\n",
    "    res.execute()\n",
    "    return res.articles\n",
    "\n",
    "cited_papers = [search_ads(x) for x in paper_search_strings]"
   ]
  },
  {
   "cell_type": "code",
   "execution_count": 159,
   "id": "92d9afc0-0758-41cd-b720-1dcf0304a01a",
   "metadata": {},
   "outputs": [
    {
     "data": {
      "text/plain": [
       "['[\"Cui, W.\"] 1997: 9 results',\n",
       " '[\"D’Aı, A.\", \"Di Salvo, T.\", \"Iaria, R.\"] 2015: 1 results',\n",
       " '[\"Daigne, F.\", \"Goldoni, P.\", \"Ferrando, P.\"] 2002: 1 results',\n",
       " '[\"de Jager, O. C.\", \"Raubenheimer, B. C.\", \"Swanepoel, J. W. H.\"] 1989: 2 results',\n",
       " '[\"Degenaar, N.\", \"Wijnands, R.\", \"Cackett, E. M.\"] 2012: 2 results',\n",
       " '[\"Doroshenko, R.\", \"Santangelo, A.\", \"Doroshenko, V.\", \"Suleimanov, V.\", \"Piraino, S.\"] 2015: 2 results',\n",
       " '[\"Doroshenko, V.\", \"Santangelo, A.\", \"Doroshenko, R.\"] 2014: 2 results',\n",
       " '[\"Illarionov, A. F.\", \"Sunyaev, R. A.\"] 1975: 1 results',\n",
       " '[\"Nishiuchi, M.\", \"Koyama, K.\", \"Maeda, Y.\"] 1999: 1 results',\n",
       " '[\"Rappaport, S.\", \"Joss, P. C.\"] 1997: 1 results',\n",
       " '[\"Sanna, A.\", \"Riggio, A.\", \"Burderi, L.\"] 2017: 6 results',\n",
       " '[\"Tsygankov, S. S.\", \"Doroshenko, V.\", \"Lutovinov, A. A.\", \"Mushtukov, A. A.\", \"Poutanen, J.\"] 2017: 2 results',\n",
       " '[\"Tsygankov, S. S.\", \"Lutovinov, A. A.\", \"Doroshenko, V.\"] 2016: 1 results',\n",
       " '[\"Tsygankov, S. S.\", \"Mushtukov, A. A.\", \"Suleimanov, V. F.\"] 2017: 1 results',\n",
       " '[\"Tsygankov, S. S.\", \"Mushtukov, A. A.\", \"Suleimanov, V. F.\", \"Poutanen, J.\"] 2016: 2 results',\n",
       " '[\"Tsygankov, S. S.\", \"Wijnands, R.\", \"Lutovinov, A. A.\", \"Degenaar, N.\", \"Poutanen, J.\"] 2017: 1 results',\n",
       " '[\"Wijnands, R.\", \"Wang, Q. D.\"] 2002: 2 results']"
      ]
     },
     "execution_count": 159,
     "metadata": {},
     "output_type": "execute_result"
    }
   ],
   "source": [
    "[f\"{x[0]}: {len(x[1])} results\" for x in zip(paper_search_strings,cited_papers)]"
   ]
  },
  {
   "cell_type": "markdown",
   "id": "b6f3c14f-b171-4a82-ab58-908769402a4d",
   "metadata": {},
   "source": [
    "For citations where more than one match is available, it makes sense to select one with most similar abstract:"
   ]
  },
  {
   "cell_type": "code",
   "execution_count": 160,
   "id": "72f95d58-80ae-457b-aa2b-8b6883bd6294",
   "metadata": {},
   "outputs": [
    {
     "name": "stderr",
     "output_type": "stream",
     "text": [
      "/Users/doroshv/mambaforge/envs/proposal_parser/lib/python3.12/site-packages/ads/utils.py:26: UserWarning: You are lazy loading attributes via 'abstract', and so are making multiple calls to the API. This will impact your overall rate limits.\n",
      "  warnings.warn(\n"
     ]
    }
   ],
   "source": [
    "from langchain_openai import OpenAIEmbeddings\n",
    "from scipy.spatial.distance import cosine\n",
    "import numpy as np\n",
    "\n",
    "embeddings = OpenAIEmbeddings(model=\"text-embedding-ada-002\")\n",
    "e0 = embeddings.embed_query(proposal_text)\n",
    "\n",
    "for i in range(len(cited_papers)):\n",
    "    if len(cited_papers[i])>1:\n",
    "        similarity = [p.abstract!=None and cosine(e0,embeddings.embed_query(p.abstract)) or 1 for p in cited_papers[i]]\n",
    "        cited_papers[i] = [cited_papers[i][np.argmin(similarity)]]\n",
    "cited_papers = [x[0] for x in cited_papers if len(x)>0]"
   ]
  },
  {
   "cell_type": "markdown",
   "id": "c54c2b81-7d1f-41f8-b2c3-c80d85d21864",
   "metadata": {},
   "source": [
    "To get full texts to build RAG database the only thing we need are bibcodes, so store those:"
   ]
  },
  {
   "cell_type": "code",
   "execution_count": 161,
   "id": "9eb239b1-1797-4bee-82d0-0646e45734f4",
   "metadata": {},
   "outputs": [],
   "source": [
    "bibcodes = [x.bibcode for x in cited_papers]"
   ]
  },
  {
   "cell_type": "markdown",
   "id": "92eac7f9-38b9-4e34-b6d9-3d053cc35ab0",
   "metadata": {},
   "source": [
    "Now we need to download full texts for these articles. Here ADS API needs to be used directly:"
   ]
  },
  {
   "cell_type": "code",
   "execution_count": 162,
   "id": "4833d52e-434f-4218-9f49-816e3d14c683",
   "metadata": {},
   "outputs": [],
   "source": [
    "import requests, urllib, tempfile, os\n",
    "pdf_priority = ['ads_pdf','eprint_pdf','pub_pdf'] # try ADS-stored pdf, then arxiv, then publishers (they have captchas)\n",
    "\n",
    "def download_file(bibcode,priority):\n",
    "    with tempfile.NamedTemporaryFile(delete=False) as temp_file:\n",
    "        temp_filename = temp_file.name\n",
    "    request = f\"https://api.adsabs.harvard.edu/v1/resolver/{bibcode}/{pdf_priority[priority]}\"\n",
    "    # print(request)\n",
    "    response = requests.get(request,headers={'Authorization': 'Bearer ' + os.getenv('ADS_API_KEY')})\n",
    "    if response.ok:\n",
    "        url = response.json()['link']\n",
    "        urllib.request.urlretrieve(url, temp_filename)\n",
    "        return temp_filename\n",
    "    else:\n",
    "        return False\n",
    "    \n",
    "def get_fulltext(bibcode):\n",
    "    text = ''\n",
    "    for i in [0,1,2]:\n",
    "        try:\n",
    "            pdf = download_file(bibcode,i)\n",
    "            text = extract_text_from_pdf_fitz(pdf)\n",
    "            os.remove(pdf)\n",
    "            break\n",
    "        except:\n",
    "            continue\n",
    "    return text"
   ]
  },
  {
   "cell_type": "code",
   "execution_count": 163,
   "id": "8c0d342b-b275-4d0e-8211-d42bf57656a9",
   "metadata": {},
   "outputs": [],
   "source": [
    "cited_texts = [get_fulltext(x) for x in bibcodes]"
   ]
  },
  {
   "cell_type": "markdown",
   "id": "c112c55e-418e-4856-afe1-fb67336338cf",
   "metadata": {},
   "source": [
    "Note that some texts are not fetched because journals respond with picture or whatever to bots. In principle, one needs to use some \"prove you're human\" in those cases, but it's not the topic of current excercise, so something is better than nothing. Now we can concatenate the database of cited papers plus the proposal itself and convert it to vector embeddings to feed the RAG."
   ]
  },
  {
   "cell_type": "code",
   "execution_count": 164,
   "id": "b9ec730c-3533-4fbe-b4aa-a8c58bbae809",
   "metadata": {},
   "outputs": [],
   "source": [
    "import functools\n",
    "knowledge = functools.reduce(lambda x,y: x+' '+y, cited_texts + [proposal_text])"
   ]
  },
  {
   "cell_type": "code",
   "execution_count": 165,
   "id": "2bd67766-f5b2-4b94-bdc8-17788d7d9bba",
   "metadata": {},
   "outputs": [],
   "source": [
    "from langchain.text_splitter import RecursiveCharacterTextSplitter\n",
    "\n",
    "text_splitter = RecursiveCharacterTextSplitter(\n",
    "    chunk_size = 1000,\n",
    "    chunk_overlap  = 300,\n",
    ")\n",
    "\n",
    "texts = text_splitter.create_documents([knowledge])"
   ]
  },
  {
   "cell_type": "markdown",
   "id": "3744b0e3-286b-4bb9-b204-92cb3b84c396",
   "metadata": {},
   "source": [
    "Now we can actually feed that to pinecone"
   ]
  },
  {
   "cell_type": "code",
   "execution_count": 166,
   "id": "ca217e3a-32a6-4f17-b1db-d4f7e8a920b8",
   "metadata": {},
   "outputs": [
    {
     "data": {
      "text/plain": [
       "Document(page_content='arXiv:astro-ph/9704084v1  10 Apr 1997\\nEvidence for “Propeller” Eﬀects In X-ray Pulsars GX 1+4 And GRO J1744-28\\nWei Cui1\\nABSTRACT\\nWe present observational evidence for “propeller” eﬀects in two X–ray pulsars,\\nGX 1+4 and GRO J1744–28. Both sources were monitored regularly by the Rossi\\nX–ray Timing Explorer (RXTE) throughout a decaying period in the X–ray brightness.\\nQuite remarkably, strong X–ray pulsation became unmeasurable when total X–ray ﬂux\\nhad dropped below a certain threshold. Such a phenomenon is a clear indication of\\nthe propeller eﬀects which take place when pulsar magnetosphere grows beyond the\\nco-rotation radius as a result of the decrease in mass accretion rate and centrifugal\\nforce prevents accreting matter from reaching the magnetic poles. The entire process\\nshould simply reverse as the accretion rate increases. Indeed, steady X–ray pulsation\\nwas reestablished as the sources emerged from the non-pulsating faint state. These')"
      ]
     },
     "execution_count": 166,
     "metadata": {},
     "output_type": "execute_result"
    }
   ],
   "source": [
    "texts[0]"
   ]
  },
  {
   "cell_type": "code",
   "execution_count": 167,
   "id": "c57576bc-5c97-4939-9344-a0743a8ce3a3",
   "metadata": {},
   "outputs": [],
   "source": [
    "from pinecone import Pinecone\n",
    "\n",
    "# initialize connection to pinecone (get API key at app.pinecone.io)\n",
    "api_key = os.environ.get('PINECONE_API_KEY')\n",
    "\n",
    "# configure client\n",
    "pc = Pinecone(api_key=api_key)"
   ]
  },
  {
   "cell_type": "code",
   "execution_count": 168,
   "id": "1efa4c01-b6ab-474e-bca1-d0034a5d877c",
   "metadata": {},
   "outputs": [
    {
     "name": "stdout",
     "output_type": "stream",
     "text": [
      "ServerlessSpec(cloud='aws', region='us-east-1')\n"
     ]
    }
   ],
   "source": [
    "from pinecone import ServerlessSpec\n",
    "import time\n",
    "\n",
    "cloud = os.environ.get('PINECONE_CLOUD') or 'aws'\n",
    "region = os.environ.get('PINECONE_REGION') or 'us-east-1'\n",
    "\n",
    "spec = ServerlessSpec(cloud=cloud, region=region)\n",
    "index_name = 'langchain-rag'\n",
    "print(spec)"
   ]
  },
  {
   "cell_type": "code",
   "execution_count": 169,
   "id": "6c8157e3-6f19-4307-9988-e46c32a654c3",
   "metadata": {},
   "outputs": [],
   "source": [
    "try:\n",
    "    pc.delete_index(index_name)\n",
    "except:\n",
    "    pass\n",
    "pc.create_index(\n",
    "        index_name,\n",
    "        dimension=len(e0),  # dimensionality of text-embedding-ada-002\n",
    "        metric='dotproduct',\n",
    "        spec=spec\n",
    "    )\n",
    "while not pc.describe_index(index_name).status['ready']:\n",
    "    time.sleep(1)"
   ]
  },
  {
   "cell_type": "code",
   "execution_count": 170,
   "id": "d1052070-9eef-4939-b22e-16ec9bb828b3",
   "metadata": {},
   "outputs": [
    {
     "data": {
      "text/plain": [
       "{'dimension': 1536,\n",
       " 'index_fullness': 0.0,\n",
       " 'namespaces': {},\n",
       " 'total_vector_count': 0}"
      ]
     },
     "execution_count": 170,
     "metadata": {},
     "output_type": "execute_result"
    }
   ],
   "source": [
    "index = pc.Index(index_name)\n",
    "# wait a moment for connection\n",
    "time.sleep(1)\n",
    "index.describe_index_stats()"
   ]
  },
  {
   "cell_type": "code",
   "execution_count": 171,
   "id": "0fd7ab37-17d0-4ef1-bce4-d7f00da87ad0",
   "metadata": {},
   "outputs": [],
   "source": [
    "from langchain_pinecone import PineconeVectorStore\n",
    "\n",
    "vectorstore = PineconeVectorStore.from_documents(\n",
    "        texts,\n",
    "        index_name=index_name,\n",
    "        embedding=embeddings\n",
    "    )"
   ]
  },
  {
   "cell_type": "code",
   "execution_count": 172,
   "id": "a5b36a76-909d-4d2f-b67d-b2a0ef0fa30d",
   "metadata": {},
   "outputs": [
    {
     "data": {
      "text/plain": [
       "{'dimension': 1536,\n",
       " 'index_fullness': 0.0,\n",
       " 'namespaces': {'': {'vector_count': 1061}},\n",
       " 'total_vector_count': 1061}"
      ]
     },
     "execution_count": 172,
     "metadata": {},
     "output_type": "execute_result"
    }
   ],
   "source": [
    "index.describe_index_stats()"
   ]
  },
  {
   "cell_type": "markdown",
   "id": "1cd27f1f-5131-4383-b3b6-a1fa15c1c051",
   "metadata": {},
   "source": [
    "Now we can test whether similarity searches over vector store actually work:"
   ]
  },
  {
   "cell_type": "code",
   "execution_count": 173,
   "id": "6325093e-8d99-409c-a88c-ff4d77ec423f",
   "metadata": {},
   "outputs": [
    {
     "data": {
      "text/plain": [
       "[Document(page_content='observed pulse period with the values reported during the recent outburst of the source will allow to measure\\nthe observed rate of spin frequency change in quiescence. Comparison with the spin evolution of the source\\nduring the outburst can then be used to put additional constrains on distance to the source and eﬀective\\nmagnetospheric radius (Sanna et al. 2017).\\n3. Justiﬁcation of requested observing time, feasibility and visibility\\nGRO J1744−28 has alredy been observed in quiescence a number of times with XMM-Newton, and\\nChandra, however, none of the observations are suitable to achieve our goals. Most of the observations\\nare short (1-5 ks) monitoring pointings of the Galactic centre not targeting speciﬁcally the source. The\\ntwo longer XMM observations in quiescence (0506291201, 38 ks, and 0794580301, 25 ks) were performed\\nin modes unsuitable to search for the pulsations in GRO J1744−28. The former was devoted to study')]"
      ]
     },
     "execution_count": 173,
     "metadata": {},
     "output_type": "execute_result"
    }
   ],
   "source": [
    "vectorstore.similarity_search(\n",
    "    'Justification of requested observing time',  # our search query\n",
    "    k=1  # return 1 most relevant docs\n",
    ")"
   ]
  },
  {
   "cell_type": "code",
   "execution_count": 174,
   "id": "17515026-5380-48b6-ba94-a9b1538d9fff",
   "metadata": {},
   "outputs": [],
   "source": [
    "from langchain.chat_models import ChatOpenAI\n",
    "from langchain.chains import RetrievalQA\n",
    "\n",
    "# completion llm\n",
    "llm = ChatOpenAI(\n",
    "    openai_api_key=os.environ.get('OPENAI_API_KEY'),\n",
    "    model_name='gpt-3.5-turbo',\n",
    "    temperature=0.0\n",
    ")\n",
    "\n",
    "qa = RetrievalQA.from_chain_type(\n",
    "    llm=llm,\n",
    "    chain_type=\"stuff\",\n",
    "    retriever=vectorstore.as_retriever()\n",
    ")"
   ]
  },
  {
   "cell_type": "markdown",
   "id": "0b13ea40-68f1-4bc2-bd72-a040ca230708",
   "metadata": {},
   "source": [
    "Now we can test how it works. First try single shot with super simple prompt:"
   ]
  },
  {
   "cell_type": "code",
   "execution_count": 175,
   "id": "44711071-8068-4656-933a-7c92563bd704",
   "metadata": {},
   "outputs": [
    {
     "data": {
      "text/plain": [
       "{'query': 'what are the main scientific objectives for observing GRO J1744-28 with XMM-Newton',\n",
       " 'result': 'The main scientific objectives for observing GRO J1744-28 with XMM-Newton include measuring the observed rate of spin frequency change in quiescence, comparing the spin evolution of the source during outbursts to constrain distance and effective magnetospheric radius, discriminating between different spectral models, decreasing uncertainty in spectral parameters, and detecting pulsations to understand the mechanisms for the quiescent X-rays in the system.'}"
      ]
     },
     "execution_count": 175,
     "metadata": {},
     "output_type": "execute_result"
    }
   ],
   "source": [
    "query = \"what are the main scientific objectives for observing GRO J1744-28 with XMM-Newton\"\n",
    "qa(query)"
   ]
  },
  {
   "cell_type": "markdown",
   "id": "984d165a-48bd-460d-8e8f-46775452b1fa",
   "metadata": {},
   "source": [
    "Works ok on simple questions but not as impressive on more complex ones, i.e. some optimizations are needed... Main issue is that the proposal itself is just part of RAG, but in fact it's more than that, i.e. that's the context for all the questions. And of course there are a lot of possibilities for promt engineering and chaining. Makes sense to use langchain for that."
   ]
  },
  {
   "cell_type": "code",
   "execution_count": 224,
   "id": "e95d81b8-706b-4dc7-9e14-5c9aa8df4dd0",
   "metadata": {},
   "outputs": [
    {
     "data": {
      "text/plain": [
       "'XMM-Newton is highly relevant for the proposed observations of the bursting pulsar GRO J1744−28 due to its sensitivity, spatial resolution, previous successful use in similar studies, and feasibility for the planned observation period. The proposed observation will almost triple the total exposure, allowing for discrimination between spectral models and decreasing uncertainty for spectral parameters by a factor of five. XMM-Newton provides higher sensitivity compared to other instruments, reaching X-ray luminosities significantly deeper than their sensitivity levels, and offers sub-arcsecond spatial resolution crucial for studying the detailed structure of the X-ray emission from the pulsar.'"
      ]
     },
     "execution_count": 224,
     "metadata": {},
     "output_type": "execute_result"
    }
   ],
   "source": [
    "from langchain_core.output_parsers import StrOutputParser\n",
    "from langchain_core.prompts import ChatPromptTemplate\n",
    "from langchain_core.runnables import RunnablePassthrough\n",
    "from langchain_openai import ChatOpenAI, OpenAIEmbeddings\n",
    "\n",
    "\n",
    "template = f'You are a highly qualified scientist reviewing an observational proposal below:{proposal_text}' + \"\"\"You analyze this in broader context: {context}.\n",
    "              You use given context to answer the question and carefully analyze both the context and the question before answering.\n",
    "              When answering, you first look whether the answer is already provided in the context.\n",
    "              Otherwise list out relevant arguments and answer the question step by step.\n",
    "              When doing calculations of the exposure time you clearly distinguish between the already conducted observations and those requested in the proposal.\n",
    "              If you don't know the answer, say you don't know.\"\n",
    "Question: {question}\n",
    "\"\"\"\n",
    "\n",
    "prompt = ChatPromptTemplate.from_template(template)\n",
    "summarizing_prompt = ChatPromptTemplate.from_template(\"extract facts and provide coincise one-two sentence summary of the following: {text}. Be sure to omit intermediate steps but keep relevant final numbers and object names. Only include output itself without prefixes.\")\n",
    "\n",
    "model = ChatOpenAI(openai_api_key=os.environ.get('OPENAI_API_KEY'),\n",
    "    model_name='gpt-3.5-turbo',\n",
    "    temperature=0.0)\n",
    "retriever = vectorstore.as_retriever()\n",
    "\n",
    "retrieval_chain = (\n",
    "    {\"context\": retriever, \"question\": RunnablePassthrough()}\n",
    "    | prompt\n",
    "    | model\n",
    "    | {\"text\": RunnablePassthrough()}\n",
    "    | summarizing_prompt\n",
    "    | model\n",
    "    | StrOutputParser() \n",
    ") \n",
    "\n",
    "retrieval_chain.invoke(\"Relevance of XMM in context of the proposed observations\")\n"
   ]
  },
  {
   "cell_type": "markdown",
   "id": "5bc4fe37-6649-4e76-9a1b-6e10ac30468e",
   "metadata": {},
   "source": [
    "Now we can define our list of questions and create a report adressing the questions we're actually interested in:"
   ]
  },
  {
   "cell_type": "code",
   "execution_count": 228,
   "id": "382c0cd6-dd20-4f45-80cb-5b7083635257",
   "metadata": {},
   "outputs": [],
   "source": [
    "questions = [\n",
    "    \"what are the scientific goals of the proposal?\",\n",
    "    \"why XMM-Newton data is essential and can the program be fulfilled with other facilities? If yes, which?\",\n",
    "    \"are the proposed target or targets suitable to support the scientific case? If yes, Why?\",\n",
    "    \"are the proposed observations feasible to fulfill the scientific case?\",\n",
    "    \"is visibility of the target discussed?\"]\n",
    "answers = [retrieval_chain.invoke(q) for q in questions]"
   ]
  },
  {
   "cell_type": "code",
   "execution_count": 229,
   "id": "6354761c-9889-4210-ad28-8829264ab42f",
   "metadata": {},
   "outputs": [
    {
     "data": {
      "text/markdown": [
       "#what are the scientific goals of the proposal?\n",
       "\n",
       "The proposal aims to investigate the physical origin of X-ray emission from the bursting pulsar GRO J1744−28 in quiescence by verifying continued accretion, determining emission variability, detecting pulsations, comparing spectra with outburst data and other sources, measuring spin frequency change, and constraining distance and magnetospheric radius.\n",
       "\n",
       "#why XMM-Newton data is essential and can the program be fulfilled with other facilities? If yes, which?\n",
       "\n",
       "The XMM-Newton data is essential for the proposed observational program to investigate the physical origin of X-ray emission from GRO J1744−28 in quiescence. Previous observations with Chandra were not suitable due to shorter monitoring pointings and unsuitable observation modes. XMM-Newton is needed for the proposed investigation because it provides the required exposure time, sensitivity, and observation modes that other facilities like Chandra may not meet.\n",
       "\n",
       "#are the proposed target or targets suitable to support the scientific case? If yes, Why?\n",
       "\n",
       "The proposed target GRO J1744−28 is suitable for the observational proposal due to its unique properties, uncertainties in behavior, need for further investigation, and feasibility of the proposed observation. Previous observations were not sufficient, and a new 50 ks XMM observation in quiescence is necessary to study the source's accretion and emission.\n",
       "\n",
       "#are the proposed observations feasible to fulfill the scientific case?\n",
       "\n",
       "The proposal suggests a 50 ks XMM observation is necessary to investigate the physical origin of the observed X-ray emission from the bursting pulsar GRO J1744−28 in quiescence. A sensitivity analysis indicates that this exposure time is needed to detect pulsations at the expected flux level and rule out a thermal origin of the emission, with the target being observable multiple times within the specified timeframe.\n",
       "\n",
       "#is visibility of the target discussed?\n",
       "\n",
       "The proposal discusses the visibility of the target, mentioning it is observable multiple times within specific periods in 2018 and 2019. This shows that the target's visibility was considered in planning the observation.\n",
       "\n"
      ],
      "text/plain": [
       "<IPython.core.display.Markdown object>"
      ]
     },
     "metadata": {},
     "output_type": "display_data"
    }
   ],
   "source": [
    "from IPython.display import display, Markdown\n",
    "md = \"\"\"\"\"\"\n",
    "for x in zip(questions, answers):\n",
    "    md+=f\"#{x[0]}\\n\\n{x[1]}\\n\\n\"\n",
    "\n",
    "display(Markdown(md))"
   ]
  },
  {
   "cell_type": "code",
   "execution_count": null,
   "id": "38034b7e-0e8b-47ff-82b1-711c9f8715c2",
   "metadata": {},
   "outputs": [],
   "source": []
  }
 ],
 "metadata": {
  "kernelspec": {
   "display_name": "Python 3 (ipykernel)",
   "language": "python",
   "name": "python3"
  },
  "language_info": {
   "codemirror_mode": {
    "name": "ipython",
    "version": 3
   },
   "file_extension": ".py",
   "mimetype": "text/x-python",
   "name": "python",
   "nbconvert_exporter": "python",
   "pygments_lexer": "ipython3",
   "version": "3.12.3"
  }
 },
 "nbformat": 4,
 "nbformat_minor": 5
}
